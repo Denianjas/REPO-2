{
  "cells": [
    {
      "cell_type": "markdown",
      "metadata": {
        "id": "view-in-github",
        "colab_type": "text"
      },
      "source": [
        "<a href=\"https://colab.research.google.com/github/Denianjas/setup-environment-praktikum/blob/main/analisis_data_kematian_rokok_1.ipynb\" target=\"_parent\"><img src=\"https://colab.research.google.com/assets/colab-badge.svg\" alt=\"Open In Colab\"/></a>"
      ]
    },
    {
      "cell_type": "markdown",
      "metadata": {
        "id": "QMhJlTJGeJ1H"
      },
      "source": [
        "# 📊 Analisis Data Kematian Akibat Rokok (WHO)\n",
        "Dataset ini berisi data jumlah kematian akibat rokok di beberapa negara.\n",
        "Kita akan melakukan prediksi dan clustering menggunakan Machine Learning."
      ]
    },
    {
      "cell_type": "code",
      "execution_count": null,
      "metadata": {
        "id": "Viii-q4GeJ1L"
      },
      "outputs": [],
      "source": [
        "# 📥 1. Import Library yang Dibutuhkan\n",
        "import pandas as pd\n",
        "import numpy as np\n",
        "import matplotlib.pyplot as plt\n",
        "import seaborn as sns\n",
        "from sklearn.model_selection import train_test_split\n",
        "from sklearn.linear_model import LinearRegression\n",
        "from sklearn.cluster import KMeans\n",
        "from sklearn.metrics import mean_absolute_error, mean_squared_error\n"
      ]
    },
    {
      "cell_type": "code",
      "execution_count": null,
      "metadata": {
        "id": "jGyUH8FgeJ1N"
      },
      "outputs": [],
      "source": [
        "# 📂 2. Load Dataset\n",
        "df = pd.read_csv('Data_Kematian_Rokok_WHO.csv')\n",
        "df.head()  # Menampilkan 5 baris pertama"
      ]
    },
    {
      "cell_type": "code",
      "execution_count": null,
      "metadata": {
        "id": "tHayn4hbeJ1O"
      },
      "outputs": [],
      "source": [
        "# 🔍 3. Eksplorasi Data\n",
        "print(df.info())  # Informasi dataset\n",
        "print(df.describe())  # Statistik deskriptif\n",
        "sns.pairplot(df, diag_kind='kde')  # Visualisasi hubungan antar variabel\n",
        "plt.show()"
      ]
    },
    {
      "cell_type": "code",
      "execution_count": null,
      "metadata": {
        "id": "NUHSnlhCeJ1O"
      },
      "outputs": [],
      "source": [
        "# 🔢 4. Prediksi Angka Kematian dengan Regresi Linear\n",
        "X = df[['Year', 'Smokers_Percentage']]\n",
        "y = df['Deaths_Tobacco']\n",
        "X_train, X_test, y_train, y_test = train_test_split(X, y, test_size=0.2, random_state=42)\n",
        "model = LinearRegression()\n",
        "model.fit(X_train, y_train)\n",
        "y_pred = model.predict(X_test)\n",
        "mae = mean_absolute_error(y_test, y_pred)\n",
        "mse = mean_squared_error(y_test, y_pred)\n",
        "print(f'MAE: {mae}, MSE: {mse}')"
      ]
    },
    {
      "cell_type": "code",
      "execution_count": null,
      "metadata": {
        "id": "uk6OriRGeJ1P"
      },
      "outputs": [],
      "source": [
        "# 📈 5. Visualisasi Prediksi vs Aktual\n",
        "plt.figure(figsize=(8,5))\n",
        "plt.scatter(y_test, y_pred, color='blue', alpha=0.5)\n",
        "plt.xlabel('Angka Kematian Aktual')\n",
        "plt.ylabel('Prediksi Angka Kematian')\n",
        "plt.title('Prediksi vs Aktual')\n",
        "plt.show()"
      ]
    },
    {
      "cell_type": "code",
      "execution_count": null,
      "metadata": {
        "id": "SD2mxysbeJ1P"
      },
      "outputs": [],
      "source": [
        "# 🏢 6. Clustering Negara Berdasarkan Kematian Akibat Rokok\n",
        "df_cluster = df[['Country', 'Deaths_Tobacco']].copy()\n",
        "df_cluster.set_index('Country', inplace=True)\n",
        "kmeans = KMeans(n_clusters=3, random_state=42)\n",
        "df_cluster['Cluster'] = kmeans.fit_predict(df_cluster)\n",
        "sns.scatterplot(x=df_cluster.index, y=df_cluster['Deaths_Tobacco'], hue=df_cluster['Cluster'], palette='viridis', s=100)\n",
        "plt.xticks(rotation=90)\n",
        "plt.title('Clustering Negara Berdasarkan Kematian Akibat Rokok')\n",
        "plt.show()"
      ]
    }
  ],
  "metadata": {
    "kernelspec": {
      "display_name": "Python 3",
      "language": "python",
      "name": "python3"
    },
    "language_info": {
      "codemirror_mode": {
        "name": "ipython",
        "version": 3
      },
      "file_extension": ".py",
      "mimetype": "text/x-python",
      "name": "python",
      "nbconvert_exporter": "python",
      "pygments_lexer": "ipython3",
      "version": "3.8.10"
    },
    "colab": {
      "provenance": [],
      "toc_visible": true,
      "include_colab_link": true
    }
  },
  "nbformat": 4,
  "nbformat_minor": 0
}